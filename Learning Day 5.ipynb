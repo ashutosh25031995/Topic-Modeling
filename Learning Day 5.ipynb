{
 "cells": [
  {
   "cell_type": "code",
   "execution_count": 12,
   "id": "2a2f14cd-cebb-4f26-9edb-a4ff9f7a2ae5",
   "metadata": {},
   "outputs": [
    {
     "name": "stdout",
     "output_type": "stream",
     "text": [
      "Shradha is my name. 5\n"
     ]
    }
   ],
   "source": [
    "print(\"Shradha is my name.\", 5)"
   ]
  },
  {
   "cell_type": "code",
   "execution_count": 14,
   "id": "b87cff59-2005-4d1f-8239-abc23ea2ae01",
   "metadata": {},
   "outputs": [
    {
     "ename": "SyntaxError",
     "evalue": "invalid syntax. Perhaps you forgot a comma? (197478394.py, line 1)",
     "output_type": "error",
     "traceback": [
      "\u001b[1;36m  Cell \u001b[1;32mIn[14], line 1\u001b[1;36m\u001b[0m\n\u001b[1;33m    print(\"Shradha is my name.\" 5)\u001b[0m\n\u001b[1;37m          ^\u001b[0m\n\u001b[1;31mSyntaxError\u001b[0m\u001b[1;31m:\u001b[0m invalid syntax. Perhaps you forgot a comma?\n"
     ]
    }
   ],
   "source": [
    "print(\"Shradha is my name.\" 5)"
   ]
  },
  {
   "cell_type": "code",
   "execution_count": 16,
   "id": "677bc45d-fdb1-440a-96ff-d5197363b69a",
   "metadata": {},
   "outputs": [],
   "source": [
    "Name = \"Ashutosh\""
   ]
  },
  {
   "cell_type": "code",
   "execution_count": 18,
   "id": "5b47c6bc-00ef-4853-8afd-056123803219",
   "metadata": {},
   "outputs": [],
   "source": [
    "Age = 23"
   ]
  },
  {
   "cell_type": "code",
   "execution_count": 20,
   "id": "f318f499-72de-49f6-84e4-1b49be588136",
   "metadata": {},
   "outputs": [
    {
     "name": "stdout",
     "output_type": "stream",
     "text": [
      "my name is :  Ashutosh\n"
     ]
    }
   ],
   "source": [
    "print(\"my name is : \", Name)"
   ]
  },
  {
   "cell_type": "code",
   "execution_count": 22,
   "id": "7df952ad-fc62-4fd8-9386-45be71e45ee1",
   "metadata": {},
   "outputs": [],
   "source": [
    "A = None"
   ]
  },
  {
   "cell_type": "code",
   "execution_count": 26,
   "id": "0f855c9d-897d-4a44-9473-7ef3ee95a9a1",
   "metadata": {},
   "outputs": [
    {
     "name": "stdout",
     "output_type": "stream",
     "text": [
      "<class 'NoneType'>\n"
     ]
    }
   ],
   "source": [
    "print(type(A))\n"
   ]
  },
  {
   "cell_type": "code",
   "execution_count": 36,
   "id": "f7f59445-77b2-421f-b312-dfb541d79a98",
   "metadata": {},
   "outputs": [],
   "source": [
    "x = 5 + 15"
   ]
  },
  {
   "cell_type": "code",
   "execution_count": 38,
   "id": "d396c0a8-982b-4e43-a0f4-4271a60f0497",
   "metadata": {},
   "outputs": [],
   "source": [
    "num = 10"
   ]
  },
  {
   "cell_type": "code",
   "execution_count": 40,
   "id": "224541fe-837e-4690-8632-43f4d613fa60",
   "metadata": {},
   "outputs": [],
   "source": [
    "num += 10"
   ]
  },
  {
   "cell_type": "code",
   "execution_count": 44,
   "id": "30e9ec87-a269-4b78-8da6-ae8f676ff91c",
   "metadata": {},
   "outputs": [
    {
     "name": "stdout",
     "output_type": "stream",
     "text": [
      "Number: 20\n"
     ]
    }
   ],
   "source": [
    "print(\"Number:\",num)"
   ]
  },
  {
   "cell_type": "code",
   "execution_count": 60,
   "id": "5dd7aea4-17b3-4940-87bd-fd7ea08efb6d",
   "metadata": {},
   "outputs": [],
   "source": [
    "value = 60"
   ]
  },
  {
   "cell_type": "code",
   "execution_count": 62,
   "id": "615b2591-47e0-47cd-8374-4794c7acf4e8",
   "metadata": {},
   "outputs": [],
   "source": [
    "value2 = 50"
   ]
  },
  {
   "cell_type": "code",
   "execution_count": 64,
   "id": "07d76085-88bc-446e-9353-b2cb688e0563",
   "metadata": {},
   "outputs": [
    {
     "name": "stdout",
     "output_type": "stream",
     "text": [
      "and operator: True\n"
     ]
    }
   ],
   "source": [
    "print(\"and operator:\", (value > value2) and (value + 30 > value2))"
   ]
  },
  {
   "cell_type": "code",
   "execution_count": 66,
   "id": "6b4d07e4-d272-4f46-aff8-20453da7c10e",
   "metadata": {},
   "outputs": [
    {
     "name": "stdout",
     "output_type": "stream",
     "text": [
      "<class 'int'>\n"
     ]
    }
   ],
   "source": [
    "a = int(\"2\")\n",
    "b =4.25\n",
    "print(type(a))\n"
   ]
  },
  {
   "cell_type": "code",
   "execution_count": 68,
   "id": "fec0a8fa-cee8-4373-b1ba-65e9b12f76bf",
   "metadata": {},
   "outputs": [
    {
     "name": "stdout",
     "output_type": "stream",
     "text": [
      "6.25\n"
     ]
    }
   ],
   "source": [
    "print(a + b)"
   ]
  },
  {
   "cell_type": "code",
   "execution_count": 72,
   "id": "355a664e-4c8c-4180-8d4a-8e0a8830b2d3",
   "metadata": {},
   "outputs": [],
   "source": [
    "a = float(2)\n"
   ]
  },
  {
   "cell_type": "code",
   "execution_count": 74,
   "id": "270a779a-71ac-445b-8a07-7b907c5ce318",
   "metadata": {},
   "outputs": [
    {
     "data": {
      "text/plain": [
       "2.0"
      ]
     },
     "execution_count": 74,
     "metadata": {},
     "output_type": "execute_result"
    }
   ],
   "source": [
    "a"
   ]
  },
  {
   "cell_type": "code",
   "execution_count": 76,
   "id": "64fe3d19-5e97-4e86-b693-27b093317142",
   "metadata": {},
   "outputs": [
    {
     "name": "stdin",
     "output_type": "stream",
     "text": [
      "enter your name:  Ashutosh\n"
     ]
    },
    {
     "data": {
      "text/plain": [
       "'Ashutosh'"
      ]
     },
     "execution_count": 76,
     "metadata": {},
     "output_type": "execute_result"
    }
   ],
   "source": [
    "input(\"enter your name: \")"
   ]
  },
  {
   "cell_type": "code",
   "execution_count": 78,
   "id": "82415cc4-8b1a-46f9-8fd0-72739457e9fa",
   "metadata": {},
   "outputs": [
    {
     "name": "stdin",
     "output_type": "stream",
     "text": [
      "enter your name: Ashutosh\n"
     ]
    },
    {
     "name": "stdout",
     "output_type": "stream",
     "text": [
      "welcome Ashutosh\n"
     ]
    }
   ],
   "source": [
    "name = input(\"enter your name:\")\n",
    "print(\"welcome\",name)"
   ]
  },
  {
   "cell_type": "code",
   "execution_count": 4,
   "id": "54a94919-c2e9-4c71-ac36-7832ed7725c9",
   "metadata": {},
   "outputs": [
    {
     "name": "stdin",
     "output_type": "stream",
     "text": [
      "enter some val: 23.03\n"
     ]
    },
    {
     "name": "stdout",
     "output_type": "stream",
     "text": [
      "<class 'str'> 23.03\n"
     ]
    }
   ],
   "source": [
    "val = input(\"enter some val:\")\n",
    "print(type(val),val)"
   ]
  },
  {
   "cell_type": "code",
   "execution_count": 6,
   "id": "aa29de7b-e0c8-4b3d-8939-b9cf37e448c4",
   "metadata": {},
   "outputs": [
    {
     "name": "stdin",
     "output_type": "stream",
     "text": [
      "enter some val: 25\n"
     ]
    },
    {
     "name": "stdout",
     "output_type": "stream",
     "text": [
      "<class 'int'> 25\n"
     ]
    }
   ],
   "source": [
    "val = int(input(\"enter some val:\"))\n",
    "print(type(val),val)"
   ]
  },
  {
   "cell_type": "code",
   "execution_count": null,
   "id": "abb883e3-aea0-4eb2-90d5-97b44ffe784a",
   "metadata": {},
   "outputs": [],
   "source": []
  }
 ],
 "metadata": {
  "kernelspec": {
   "display_name": "Python 3 (ipykernel)",
   "language": "python",
   "name": "python3"
  },
  "language_info": {
   "codemirror_mode": {
    "name": "ipython",
    "version": 3
   },
   "file_extension": ".py",
   "mimetype": "text/x-python",
   "name": "python",
   "nbconvert_exporter": "python",
   "pygments_lexer": "ipython3",
   "version": "3.11.9"
  }
 },
 "nbformat": 4,
 "nbformat_minor": 5
}
