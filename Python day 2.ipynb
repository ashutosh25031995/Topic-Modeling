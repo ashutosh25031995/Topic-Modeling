{
 "cells": [
  {
   "cell_type": "markdown",
   "id": "4a011f66-eb70-4eea-8644-bdd487b3e03c",
   "metadata": {},
   "source": [
    "## 16 / 3"
   ]
  },
  {
   "cell_type": "code",
   "execution_count": 4,
   "id": "bdeaaafe-181b-4cd1-a675-fb875dc3925a",
   "metadata": {},
   "outputs": [
    {
     "data": {
      "text/plain": [
       "False"
      ]
     },
     "execution_count": 4,
     "metadata": {},
     "output_type": "execute_result"
    }
   ],
   "source": [
    "x = 100\n",
    "y = 98\n",
    "x == y"
   ]
  },
  {
   "cell_type": "code",
   "execution_count": 2,
   "id": "6a82063c-9bae-4d23-aaa5-5313cf5d47f2",
   "metadata": {},
   "outputs": [
    {
     "data": {
      "text/plain": [
       "False"
      ]
     },
     "execution_count": 2,
     "metadata": {},
     "output_type": "execute_result"
    }
   ],
   "source": [
    "100 == 98"
   ]
  },
  {
   "cell_type": "code",
   "execution_count": 4,
   "id": "7fd77690-76dc-4bc6-9898-db405480e3a5",
   "metadata": {},
   "outputs": [
    {
     "data": {
      "text/plain": [
       "24"
      ]
     },
     "execution_count": 4,
     "metadata": {},
     "output_type": "execute_result"
    }
   ],
   "source": [
    "p = 14\n",
    "p + 10"
   ]
  },
  {
   "cell_type": "code",
   "execution_count": 28,
   "id": "5263386b-450b-4e88-923a-eee280b91649",
   "metadata": {},
   "outputs": [
    {
     "name": "stdout",
     "output_type": "stream",
     "text": [
      "14 10\n"
     ]
    }
   ],
   "source": [
    "p = '14 '\n",
    "print(p  + str( 10))"
   ]
  },
  {
   "cell_type": "markdown",
   "id": "e1073850-73ed-4fca-a2f0-cbfe6f18685c",
   "metadata": {
    "jp-MarkdownHeadingCollapsed": true
   },
   "source": [
    "\"Bingio\"[0]"
   ]
  },
  {
   "cell_type": "code",
   "execution_count": 32,
   "id": "b0a34aff-9f03-4966-b714-d4eb9caf6345",
   "metadata": {},
   "outputs": [
    {
     "data": {
      "text/plain": [
       "'B'"
      ]
     },
     "execution_count": 32,
     "metadata": {},
     "output_type": "execute_result"
    }
   ],
   "source": [
    "\"Bingio\"[0]"
   ]
  },
  {
   "cell_type": "code",
   "execution_count": 34,
   "id": "3fc0e468-e9b6-48b3-8b5b-c4e5ec41dd7a",
   "metadata": {},
   "outputs": [],
   "source": [
    "x = \"Bingio\""
   ]
  },
  {
   "cell_type": "code",
   "execution_count": 36,
   "id": "45a83284-8285-4460-90b2-9a821f60b987",
   "metadata": {},
   "outputs": [
    {
     "data": {
      "text/plain": [
       "'B'"
      ]
     },
     "execution_count": 36,
     "metadata": {},
     "output_type": "execute_result"
    }
   ],
   "source": [
    "x[0]"
   ]
  },
  {
   "cell_type": "code",
   "execution_count": 2,
   "id": "184e9d70-eb75-444a-b89a-c2073d8ba642",
   "metadata": {},
   "outputs": [
    {
     "data": {
      "text/plain": [
       "8.0"
      ]
     },
     "execution_count": 2,
     "metadata": {},
     "output_type": "execute_result"
    }
   ],
   "source": [
    "2.0 * 1.5 + \\\n",
    "5"
   ]
  },
  {
   "cell_type": "code",
   "execution_count": 4,
   "id": "e78748f4-233a-4815-afb9-8735f0dc2c11",
   "metadata": {},
   "outputs": [
    {
     "ename": "SyntaxError",
     "evalue": "invalid syntax (3903378844.py, line 1)",
     "output_type": "error",
     "traceback": [
      "\u001b[1;36m  Cell \u001b[1;32mIn[4], line 1\u001b[1;36m\u001b[0m\n\u001b[1;33m    2.0 * 1.5 +\u001b[0m\n\u001b[1;37m                ^\u001b[0m\n\u001b[1;31mSyntaxError\u001b[0m\u001b[1;31m:\u001b[0m invalid syntax\n"
     ]
    }
   ],
   "source": [
    "2.0 * 1.5 + \n",
    "5"
   ]
  },
  {
   "cell_type": "code",
   "execution_count": 6,
   "id": "a2c319dc-88b3-4442-8173-62c352b261e3",
   "metadata": {},
   "outputs": [
    {
     "data": {
      "text/plain": [
       "'Friday'"
      ]
     },
     "execution_count": 6,
     "metadata": {},
     "output_type": "execute_result"
    }
   ],
   "source": [
    "\"Friday\"\n"
   ]
  },
  {
   "cell_type": "code",
   "execution_count": 8,
   "id": "52101a72-98d4-4132-af39-2796178b4858",
   "metadata": {},
   "outputs": [
    {
     "data": {
      "text/plain": [
       "'d'"
      ]
     },
     "execution_count": 8,
     "metadata": {},
     "output_type": "execute_result"
    }
   ],
   "source": [
    "\"Friday\"[3]"
   ]
  },
  {
   "cell_type": "code",
   "execution_count": 10,
   "id": "8f244adb-59fd-40eb-a5bd-aee2ca180d73",
   "metadata": {},
   "outputs": [
    {
     "name": "stdout",
     "output_type": "stream",
     "text": [
      "d\n"
     ]
    }
   ],
   "source": [
    "print(\"Friday\"[3])"
   ]
  },
  {
   "cell_type": "code",
   "execution_count": 2,
   "id": "4312847c-6b47-42bf-be5f-7e12a55ba0f6",
   "metadata": {},
   "outputs": [],
   "source": [
    "Name = \"Ashutosh\"\n",
    "Age = 30\n",
    "Price = 55"
   ]
  },
  {
   "cell_type": "code",
   "execution_count": 12,
   "id": "5ae293fa-ad7b-4bcb-920d-c89a6df0e1c4",
   "metadata": {},
   "outputs": [
    {
     "name": "stdout",
     "output_type": "stream",
     "text": [
      "my name is : Ashutosh\n",
      "my age is : 30\n"
     ]
    }
   ],
   "source": [
    "print(\"my name is :\", Name)\n",
    "print(\"my age is :\", Age)"
   ]
  },
  {
   "cell_type": "code",
   "execution_count": 1,
   "id": "29a8035b-744e-45a9-a6d9-fd80e12889ce",
   "metadata": {},
   "outputs": [
    {
     "ename": "ModuleNotFoundError",
     "evalue": "No module named 'matplotlib_venn'",
     "output_type": "error",
     "traceback": [
      "\u001b[1;31m---------------------------------------------------------------------------\u001b[0m",
      "\u001b[1;31mModuleNotFoundError\u001b[0m                       Traceback (most recent call last)",
      "\u001b[1;32m<ipython-input-1-f8fd71e78052>\u001b[0m in \u001b[0;36m<module>\u001b[1;34m\u001b[0m\n\u001b[0;32m      3\u001b[0m \u001b[1;33m\u001b[0m\u001b[0m\n\u001b[0;32m      4\u001b[0m \u001b[1;32mimport\u001b[0m \u001b[0mmatplotlib\u001b[0m\u001b[1;33m.\u001b[0m\u001b[0mpyplot\u001b[0m \u001b[1;32mas\u001b[0m \u001b[0mplt\u001b[0m\u001b[1;33m\u001b[0m\u001b[1;33m\u001b[0m\u001b[0m\n\u001b[1;32m----> 5\u001b[1;33m \u001b[1;32mfrom\u001b[0m \u001b[0mmatplotlib_venn\u001b[0m \u001b[1;32mimport\u001b[0m \u001b[0mvenn3\u001b[0m\u001b[1;33m\u001b[0m\u001b[1;33m\u001b[0m\u001b[0m\n\u001b[0m\u001b[0;32m      6\u001b[0m \u001b[1;33m\u001b[0m\u001b[0m\n\u001b[0;32m      7\u001b[0m \u001b[1;31m# Define the subset sizes\u001b[0m\u001b[1;33m\u001b[0m\u001b[1;33m\u001b[0m\u001b[1;33m\u001b[0m\u001b[0m\n",
      "\u001b[1;31mModuleNotFoundError\u001b[0m: No module named 'matplotlib_venn'"
     ]
    }
   ],
   "source": [
    "# Install necessary libraries if not already installed\n",
    "# !pip install matplotlib matplotlib-venn\n",
    "\n",
    "import matplotlib.pyplot as plt\n",
    "from matplotlib_venn import venn3\n",
    "\n",
    "# Define the subset sizes\n",
    "# Hypothetical numbers for demonstration\n",
    "total_works = 1000\n",
    "\n",
    "# Sets\n",
    "n_P = 300    # Plagiarized works\n",
    "n_G = 400    # AI-generated works\n",
    "n_H = 600    # Human-generated works\n",
    "n_PG = 120   # Plagiarized ∩ AI-generated\n",
    "n_PH = 180   # Plagiarized ∩ Human-generated\n",
    "n_GH = 150   # AI-generated ∩ Human-generated\n",
    "n_PGH = 60   # Plagiarized ∩ AI-generated ∩ Human-generated\n",
    "\n",
    "# Calculate only values for Venn diagram\n",
    "only_P = n_P - n_PG - n_PH + n_PGH\n",
    "only_G = n_G - n_PG - n_GH + n_PGH\n",
    "only_H = n_H - n_PH - n_GH + n_PGH\n",
    "P_and_G = n_PG - n_PGH\n",
    "P_and_H = n_PH - n_PGH\n",
    "G_and_H = n_GH - n_PGH\n",
    "P_and_G_and_H = n_PGH\n",
    "\n",
    "# Subset sizes in the order: (100, 010, 110, 001, 101, 011, 111)\n",
    "subsets = (\n",
    "    only_P,        # Only P\n",
    "    only_G,        # Only G\n",
    "    P_and_G,       # P ∩ G\n",
    "    only_H,        # Only H\n",
    "    P_and_H,       # P ∩ H\n",
    "    G_and_H,       # G ∩ H\n",
    "    P_and_G_and_H  # P ∩ G ∩ H\n",
    ")\n",
    "\n",
    "# Create the Venn diagram\n",
    "plt.figure(figsize=(8, 8))\n",
    "v = venn3(subsets=subsets, set_labels=('Plagiarized (P)', 'AI-generated (G)', 'Human-generated (H)'))\n",
    "\n",
    "# Customize the diagram\n",
    "v.get_label_by_id('100').set_text(f'Only P\\n({only_P})')\n",
    "v.get_label_by_id('010').set_text(f'Only G\\n({only_G})')\n",
    "v.get_label_by_id('001').set_text(f'Only H\\n({only_H})')\n",
    "v.get_label_by_id('110').set_text(f'P ∩ G\\n({P_and_G})')\n",
    "v.get_label_by_id('101').set_text(f'P ∩ H\\n({P_and_H})')\n",
    "v.get_label_by_id('011').set_text(f'G ∩ H\\n({G_and_H})')\n",
    "v.get_label_by_id('111').set_text(f'P ∩ G ∩ H\\n({P_and_G_and_H})')\n",
    "\n",
    "# Adjust transparency and colors\n",
    "for area in ['100', '010', '001']:\n",
    "    patch = v.get_patch_by_id(area)\n",
    "    if patch:\n",
    "        patch.set_alpha(0.4)\n",
    "\n",
    "plt.title('Detailed Venn Diagram of Submitted Works')\n",
    "plt.show()\n"
   ]
  },
  {
   "cell_type": "code",
   "execution_count": 2,
   "id": "9797f8fb",
   "metadata": {},
   "outputs": [
    {
     "name": "stdout",
     "output_type": "stream",
     "text": [
      "Collecting matplotlib-venn\n",
      "  Downloading matplotlib-venn-1.1.1.tar.gz (40 kB)\n",
      "  Installing build dependencies: started\n",
      "  Installing build dependencies: finished with status 'done'\n",
      "  Getting requirements to build wheel: started\n",
      "  Getting requirements to build wheel: finished with status 'done'\n",
      "  Installing backend dependencies: started\n",
      "  Installing backend dependencies: finished with status 'done'\n",
      "    Preparing wheel metadata: started\n",
      "    Preparing wheel metadata: finished with status 'done'\n",
      "Requirement already satisfied: numpy in c:\\users\\lenovo\\anaconda3\\envs\\nlpcourse\\lib\\site-packages (from matplotlib-venn) (1.21.6)\n",
      "Requirement already satisfied: matplotlib in c:\\users\\lenovo\\anaconda3\\envs\\nlpcourse\\lib\\site-packages (from matplotlib-venn) (3.3.4)\n",
      "Requirement already satisfied: scipy in c:\\users\\lenovo\\anaconda3\\envs\\nlpcourse\\lib\\site-packages (from matplotlib-venn) (1.7.3)\n",
      "Requirement already satisfied: cycler>=0.10 in c:\\users\\lenovo\\anaconda3\\envs\\nlpcourse\\lib\\site-packages (from matplotlib->matplotlib-venn) (0.10.0)\n",
      "Requirement already satisfied: python-dateutil>=2.1 in c:\\users\\lenovo\\anaconda3\\envs\\nlpcourse\\lib\\site-packages (from matplotlib->matplotlib-venn) (2.8.1)\n",
      "Requirement already satisfied: pillow>=6.2.0 in c:\\users\\lenovo\\anaconda3\\envs\\nlpcourse\\lib\\site-packages (from matplotlib->matplotlib-venn) (8.2.0)\n",
      "Requirement already satisfied: pyparsing!=2.0.4,!=2.1.2,!=2.1.6,>=2.0.3 in c:\\users\\lenovo\\anaconda3\\envs\\nlpcourse\\lib\\site-packages (from matplotlib->matplotlib-venn) (2.4.7)\n",
      "Requirement already satisfied: kiwisolver>=1.0.1 in c:\\users\\lenovo\\anaconda3\\envs\\nlpcourse\\lib\\site-packages (from matplotlib->matplotlib-venn) (1.3.1)\n",
      "Requirement already satisfied: six in c:\\users\\lenovo\\anaconda3\\envs\\nlpcourse\\lib\\site-packages (from cycler>=0.10->matplotlib->matplotlib-venn) (1.15.0)\n",
      "Building wheels for collected packages: matplotlib-venn\n",
      "  Building wheel for matplotlib-venn (PEP 517): started\n",
      "  Building wheel for matplotlib-venn (PEP 517): finished with status 'done'\n",
      "  Created wheel for matplotlib-venn: filename=matplotlib_venn-1.1.1-py3-none-any.whl size=45334 sha256=9d0fa9a500001632f7c52e12869155514ae37a1b9dcf17f9e6b40dbc2a781b93\n",
      "  Stored in directory: c:\\users\\lenovo\\appdata\\local\\pip\\cache\\wheels\\31\\03\\17\\223fa4a1716049416935fd0c472238b20531b67d2320ccbc86\n",
      "Successfully built matplotlib-venn\n",
      "Installing collected packages: matplotlib-venn\n",
      "Successfully installed matplotlib-venn-1.1.1\n"
     ]
    }
   ],
   "source": [
    "!pip install matplotlib-venn\n"
   ]
  },
  {
   "cell_type": "code",
   "execution_count": 3,
   "id": "fe59b897",
   "metadata": {},
   "outputs": [
    {
     "name": "stdout",
     "output_type": "stream",
     "text": [
      "1.1.1\n"
     ]
    }
   ],
   "source": [
    "import matplotlib_venn\n",
    "print(matplotlib_venn.__version__)\n"
   ]
  },
  {
   "cell_type": "code",
   "execution_count": 4,
   "id": "4239d67f",
   "metadata": {},
   "outputs": [
    {
     "name": "stdout",
     "output_type": "stream",
     "text": [
      "Requirement already satisfied: matplotlib-venn in c:\\users\\lenovo\\anaconda3\\envs\\nlpcourse\\lib\\site-packages (1.1.1)\n",
      "Requirement already satisfied: matplotlib in c:\\users\\lenovo\\anaconda3\\envs\\nlpcourse\\lib\\site-packages (from matplotlib-venn) (3.3.4)\n",
      "Requirement already satisfied: numpy in c:\\users\\lenovo\\anaconda3\\envs\\nlpcourse\\lib\\site-packages (from matplotlib-venn) (1.21.6)\n",
      "Requirement already satisfied: scipy in c:\\users\\lenovo\\anaconda3\\envs\\nlpcourse\\lib\\site-packages (from matplotlib-venn) (1.7.3)\n",
      "Requirement already satisfied: pillow>=6.2.0 in c:\\users\\lenovo\\anaconda3\\envs\\nlpcourse\\lib\\site-packages (from matplotlib->matplotlib-venn) (8.2.0)\n",
      "Requirement already satisfied: kiwisolver>=1.0.1 in c:\\users\\lenovo\\anaconda3\\envs\\nlpcourse\\lib\\site-packages (from matplotlib->matplotlib-venn) (1.3.1)\n",
      "Requirement already satisfied: pyparsing!=2.0.4,!=2.1.2,!=2.1.6,>=2.0.3 in c:\\users\\lenovo\\anaconda3\\envs\\nlpcourse\\lib\\site-packages (from matplotlib->matplotlib-venn) (2.4.7)\n",
      "Requirement already satisfied: cycler>=0.10 in c:\\users\\lenovo\\anaconda3\\envs\\nlpcourse\\lib\\site-packages (from matplotlib->matplotlib-venn) (0.10.0)\n",
      "Requirement already satisfied: python-dateutil>=2.1 in c:\\users\\lenovo\\anaconda3\\envs\\nlpcourse\\lib\\site-packages (from matplotlib->matplotlib-venn) (2.8.1)\n",
      "Requirement already satisfied: six in c:\\users\\lenovo\\anaconda3\\envs\\nlpcourse\\lib\\site-packages (from cycler>=0.10->matplotlib->matplotlib-venn) (1.15.0)\n"
     ]
    },
    {
     "data": {
      "image/png": "[encoded data removed]",
      "text/plain": [
       "<Figure size 576x576 with 1 Axes>"
      ]
     },
     "metadata": {},
     "output_type": "display_data"
    }
   ],
   "source": [
    "# Install necessary libraries if not already installed\n",
    "!pip install matplotlib-venn\n",
    "\n",
    "import matplotlib.pyplot as plt\n",
    "from matplotlib_venn import venn3, venn3_circles\n",
    "\n",
    "# Define the subset sizes\n",
    "# Hypothetical numbers for demonstration\n",
    "total_works = 1000\n",
    "\n",
    "# Individual set sizes\n",
    "n_P = 400   # Total plagiarized works\n",
    "n_G = 350   # Total AI-generated works\n",
    "n_H = 700   # Total human-generated works\n",
    "\n",
    "# Intersections\n",
    "n_PG = 150  # Plagiarized and AI-generated\n",
    "n_PH = 200  # Plagiarized and human-generated\n",
    "n_GH = 100  # AI-generated and human-generated\n",
    "n_PGH = 50  # Plagiarized, AI-generated, and human-generated\n",
    "\n",
    "# Calculate only values for Venn diagram (following the order of subsets)\n",
    "only_P = n_P - n_PG - n_PH + n_PGH\n",
    "only_G = n_G - n_PG - n_GH + n_PGH\n",
    "only_H = n_H - n_PH - n_GH + n_PGH\n",
    "P_and_G = n_PG - n_PGH\n",
    "P_and_H = n_PH - n_PGH\n",
    "G_and_H = n_GH - n_PGH\n",
    "P_and_G_and_H = n_PGH\n",
    "\n",
    "# Subset sizes in the order: (100, 010, 110, 001, 101, 011, 111)\n",
    "subsets = (\n",
    "    only_P,        # Only P\n",
    "    only_G,        # Only G\n",
    "    P_and_G,       # P and G\n",
    "    only_H,        # Only H\n",
    "    P_and_H,       # P and H\n",
    "    G_and_H,       # G and H\n",
    "    P_and_G_and_H  # P and G and H\n",
    ")\n",
    "\n",
    "# Create the Venn diagram\n",
    "plt.figure(figsize=(8, 8))\n",
    "v = venn3(subsets=subsets, set_labels=('Plagiarized (P)', 'AI-generated (G)', 'Human-generated (H)'))\n",
    "\n",
    "# Customize colors\n",
    "v.get_patch_by_id('100').set_color('red')    # Only P\n",
    "v.get_patch_by_id('010').set_color('green')  # Only G\n",
    "v.get_patch_by_id('001').set_color('blue')   # Only H\n",
    "\n",
    "# Set transparency\n",
    "for area in ['100', '010', '001', '110', '101', '011', '111']:\n",
    "    patch = v.get_patch_by_id(area)\n",
    "    if patch:\n",
    "        patch.set_alpha(0.5)\n",
    "\n",
    "# Add titles to intersection areas\n",
    "v.get_label_by_id('100').set_text('Only P')\n",
    "v.get_label_by_id('010').set_text('Only G')\n",
    "v.get_label_by_id('001').set_text('Only H')\n",
    "v.get_label_by_id('110').set_text('P ∩ G')\n",
    "v.get_label_by_id('101').set_text('P ∩ H')\n",
    "v.get_label_by_id('011').set_text('G ∩ H')\n",
    "v.get_label_by_id('111').set_text('P ∩ G ∩ H')\n",
    "\n",
    "plt.title('Venn Diagram of Submitted Works')\n",
    "plt.show()\n"
   ]
  },
  {
   "cell_type": "code",
   "execution_count": 5,
   "id": "6a4e6424",
   "metadata": {},
   "outputs": [
    {
     "data": {
      "image/png": "[encoded data removed]",
      "text/plain": [
       "<Figure size 576x576 with 1 Axes>"
      ]
     },
     "metadata": {},
     "output_type": "display_data"
    }
   ],
   "source": [
    "# Install necessary libraries if not already installed\n",
    "# !pip install matplotlib matplotlib-venn\n",
    "\n",
    "import matplotlib.pyplot as plt\n",
    "from matplotlib_venn import venn3\n",
    "\n",
    "# Define the subset sizes\n",
    "# Hypothetical numbers for demonstration\n",
    "total_works = 1000\n",
    "\n",
    "# Sets\n",
    "n_P = 300    # Plagiarized works\n",
    "n_G = 400    # AI-generated works\n",
    "n_H = 600    # Human-generated works\n",
    "n_PG = 120   # Plagiarized ∩ AI-generated\n",
    "n_PH = 180   # Plagiarized ∩ Human-generated\n",
    "n_GH = 150   # AI-generated ∩ Human-generated\n",
    "n_PGH = 60   # Plagiarized ∩ AI-generated ∩ Human-generated\n",
    "\n",
    "# Calculate only values for Venn diagram\n",
    "only_P = n_P - n_PG - n_PH + n_PGH\n",
    "only_G = n_G - n_PG - n_GH + n_PGH\n",
    "only_H = n_H - n_PH - n_GH + n_PGH\n",
    "P_and_G = n_PG - n_PGH\n",
    "P_and_H = n_PH - n_PGH\n",
    "G_and_H = n_GH - n_PGH\n",
    "P_and_G_and_H = n_PGH\n",
    "\n",
    "# Subset sizes in the order: (100, 010, 110, 001, 101, 011, 111)\n",
    "subsets = (\n",
    "    only_P,        # Only P\n",
    "    only_G,        # Only G\n",
    "    P_and_G,       # P ∩ G\n",
    "    only_H,        # Only H\n",
    "    P_and_H,       # P ∩ H\n",
    "    G_and_H,       # G ∩ H\n",
    "    P_and_G_and_H  # P ∩ G ∩ H\n",
    ")\n",
    "\n",
    "# Create the Venn diagram\n",
    "plt.figure(figsize=(8, 8))\n",
    "v = venn3(subsets=subsets, set_labels=('Plagiarized (P)', 'AI-generated (G)', 'Human-generated (H)'))\n",
    "\n",
    "# Customize the diagram\n",
    "v.get_label_by_id('100').set_text(f'Only P\\n({only_P})')\n",
    "v.get_label_by_id('010').set_text(f'Only G\\n({only_G})')\n",
    "v.get_label_by_id('001').set_text(f'Only H\\n({only_H})')\n",
    "v.get_label_by_id('110').set_text(f'P ∩ G\\n({P_and_G})')\n",
    "v.get_label_by_id('101').set_text(f'P ∩ H\\n({P_and_H})')\n",
    "v.get_label_by_id('011').set_text(f'G ∩ H\\n({G_and_H})')\n",
    "v.get_label_by_id('111').set_text(f'P ∩ G ∩ H\\n({P_and_G_and_H})')\n",
    "\n",
    "# Adjust transparency and colors\n",
    "for area in ['100', '010', '001']:\n",
    "    patch = v.get_patch_by_id(area)\n",
    "    if patch:\n",
    "        patch.set_alpha(0.4)\n",
    "\n",
    "plt.title('Detailed Venn Diagram of Submitted Works')\n",
    "plt.show()\n"
   ]
  },
  {
   "cell_type": "code",
   "execution_count": 6,
   "id": "d1c14a6e",
   "metadata": {},
   "outputs": [
    {
     "ename": "AssertionError",
     "evalue": "",
     "output_type": "error",
     "traceback": [
      "\u001b[1;31m---------------------------------------------------------------------------\u001b[0m",
      "\u001b[1;31mAssertionError\u001b[0m                            Traceback (most recent call last)",
      "\u001b[1;32m<ipython-input-6-215b30ae5bd7>\u001b[0m in \u001b[0;36m<module>\u001b[1;34m\u001b[0m\n\u001b[0;32m     14\u001b[0m \u001b[1;33m\u001b[0m\u001b[0m\n\u001b[0;32m     15\u001b[0m \u001b[1;31m# Probabilities sum to 1\u001b[0m\u001b[1;33m\u001b[0m\u001b[1;33m\u001b[0m\u001b[1;33m\u001b[0m\u001b[0m\n\u001b[1;32m---> 16\u001b[1;33m \u001b[1;32massert\u001b[0m \u001b[0mP_EG\u001b[0m \u001b[1;33m+\u001b[0m \u001b[0mP_EH\u001b[0m \u001b[1;33m+\u001b[0m \u001b[0mP_EHG\u001b[0m \u001b[1;33m==\u001b[0m \u001b[1;36m1.0\u001b[0m\u001b[1;33m\u001b[0m\u001b[1;33m\u001b[0m\u001b[0m\n\u001b[0m\u001b[0;32m     17\u001b[0m \u001b[1;33m\u001b[0m\u001b[0m\n\u001b[0;32m     18\u001b[0m \u001b[1;31m# Conditional probabilities\u001b[0m\u001b[1;33m\u001b[0m\u001b[1;33m\u001b[0m\u001b[1;33m\u001b[0m\u001b[0m\n",
      "\u001b[1;31mAssertionError\u001b[0m: "
     ]
    }
   ],
   "source": [
    "# Install necessary libraries if not already installed\n",
    "# !pip install matplotlib networkx\n",
    "\n",
    "import matplotlib.pyplot as plt\n",
    "import networkx as nx\n",
    "\n",
    "# Create a directed graph\n",
    "G = nx.DiGraph()\n",
    "\n",
    "# Define the probabilities (hypothetical values)\n",
    "P_EG = 0.3      # P(E_G): Probability that a work is AI-generated\n",
    "P_EH = 0.6      # P(E_H): Probability that a work is human-generated\n",
    "P_EHG = 0.1     # P(E_HG): Probability that a work is a collaboration\n",
    "\n",
    "# Probabilities sum to 1\n",
    "assert P_EG + P_EH + P_EHG == 1.0\n",
    "\n",
    "# Conditional probabilities\n",
    "P_EP_given_EG = 0.2    # P(E_P | E_G)\n",
    "P_EP_given_EH = 0.05   # P(E_P | E_H)\n",
    "P_EP_given_EHG = 0.15  # P(E_P | E_HG)\n",
    "\n",
    "# Authentic probabilities\n",
    "P_EA_given_EG = 1 - P_EP_given_EG\n",
    "P_EA_given_EH = 1 - P_EP_given_EH\n",
    "P_EA_given_EHG = 1 - P_EP_given_EHG\n",
    "\n",
    "# Add nodes and edges\n",
    "G.add_node('Start')\n",
    "\n",
    "# First level branches\n",
    "G.add_node('AI-generated (E_G)')\n",
    "G.add_node('Human-generated (E_H)')\n",
    "G.add_node('Collaboration (E_HG)')\n",
    "G.add_edge('Start', 'AI-generated (E_G)', probability=P_EG)\n",
    "G.add_edge('Start', 'Human-generated (E_H)', probability=P_EH)\n",
    "G.add_edge('Start', 'Collaboration (E_HG)', probability=P_EHG)\n",
    "\n",
    "# Second level branches for AI-generated\n",
    "G.add_node('Plagiarized | E_G')\n",
    "G.add_node('Authentic | E_G')\n",
    "G.add_edge('AI-generated (E_G)', 'Plagiarized | E_G', probability=P_EP_given_EG)\n",
    "G.add_edge('AI-generated (E_G)', 'Authentic | E_G', probability=P_EA_given_EG)\n",
    "\n",
    "# Second level branches for Human-generated\n",
    "G.add_node('Plagiarized | E_H')\n",
    "G.add_node('Authentic | E_H')\n",
    "G.add_edge('Human-generated (E_H)', 'Plagiarized | E_H', probability=P_EP_given_EH)\n",
    "G.add_edge('Human-generated (E_H)', 'Authentic | E_H', probability=P_EA_given_EH)\n",
    "\n",
    "# Second level branches for Collaboration\n",
    "G.add_node('Plagiarized | E_HG')\n",
    "G.add_node('Authentic | E_HG')\n",
    "G.add_edge('Collaboration (E_HG)', 'Plagiarized | E_HG', probability=P_EP_given_EHG)\n",
    "G.add_edge('Collaboration (E_HG)', 'Authentic | E_HG', probability=P_EA_given_EHG)\n",
    "\n",
    "# Position nodes\n",
    "pos = {\n",
    "    'Start': (0, 0),\n",
    "    'AI-generated (E_G)': (1, 1),\n",
    "    'Human-generated (E_H)': (1, 0),\n",
    "    'Collaboration (E_HG)': (1, -1),\n",
    "    'Plagiarized | E_G': (2, 1.5),\n",
    "    'Authentic | E_G': (2, 0.5),\n",
    "    'Plagiarized | E_H': (2, 0.5),\n",
    "    'Authentic | E_H': (2, -0.5),\n",
    "    'Plagiarized | E_HG': (2, -0.5),\n",
    "    'Authentic | E_HG': (2, -1.5)\n",
    "}\n",
    "\n",
    "# Draw the graph\n",
    "plt.figure(figsize=(10, 6))\n",
    "nx.draw(G, pos, with_labels=False, arrows=False, node_size=5000, node_color='lightblue')\n",
    "\n",
    "# Draw labels\n",
    "for node in G.nodes():\n",
    "    x, y = pos[node]\n",
    "    plt.text(x, y, node, horizontalalignment='center', verticalalignment='center', fontsize=10)\n",
    "\n",
    "# Draw edge labels\n",
    "edge_labels = {}\n",
    "for edge in G.edges(data=True):\n",
    "    start_node = edge[0]\n",
    "    end_node = edge[1]\n",
    "    prob = edge[2]['probability']\n",
    "    edge_labels[(start_node, end_node)] = f\"P={prob:.2f}\"\n",
    "\n",
    "nx.draw_networkx_edge_labels(G, pos, edge_labels=edge_labels, font_color='red')\n",
    "\n",
    "plt.title('Probability Tree Diagram')\n",
    "plt.axis('off')\n",
    "plt.show()\n"
   ]
  },
  {
   "cell_type": "code",
   "execution_count": 7,
   "id": "cbbcbbc4",
   "metadata": {},
   "outputs": [
    {
     "name": "stdout",
     "output_type": "stream",
     "text": [
      "P_EG + P_EH + P_EHG = 0.9999999999999999\n"
     ]
    },
    {
     "data": {
      "image/png": "[encoded data removed]",
      "text/plain": [
       "<Figure size 864x576 with 1 Axes>"
      ]
     },
     "metadata": {},
     "output_type": "display_data"
    }
   ],
   "source": [
    "# Install necessary libraries if not already installed\n",
    "# !pip install matplotlib networkx\n",
    "\n",
    "import matplotlib.pyplot as plt\n",
    "import networkx as nx\n",
    "\n",
    "# Create a directed graph\n",
    "G = nx.DiGraph()\n",
    "\n",
    "# Define the probabilities (hypothetical values)\n",
    "P_EG = 0.3      # P(E_G): Probability that a work is AI-generated\n",
    "P_EH = 0.6      # P(E_H): Probability that a work is human-generated\n",
    "P_EHG = 0.1     # P(E_HG): Probability that a work is a collaboration\n",
    "\n",
    "# Print the sum of probabilities\n",
    "print(\"P_EG + P_EH + P_EHG =\", P_EG + P_EH + P_EHG)\n",
    "\n",
    "# Adjusted assertion to account for floating-point precision\n",
    "assert abs(P_EG + P_EH + P_EHG - 1.0) < 1e-6, \"Probabilities do not sum to 1.\"\n",
    "\n",
    "# Conditional probabilities\n",
    "P_EP_given_EG = 0.2    # P(E_P | E_G)\n",
    "P_EP_given_EH = 0.05   # P(E_P | E_H)\n",
    "P_EP_given_EHG = 0.15  # P(E_P | E_HG)\n",
    "\n",
    "# Authentic probabilities\n",
    "P_EA_given_EG = 1 - P_EP_given_EG\n",
    "P_EA_given_EH = 1 - P_EP_given_EH\n",
    "P_EA_given_EHG = 1 - P_EP_given_EHG\n",
    "\n",
    "# Add nodes and edges\n",
    "G.add_node('Start')\n",
    "\n",
    "# First level branches\n",
    "G.add_node('AI-generated (E_G)')\n",
    "G.add_node('Human-generated (E_H)')\n",
    "G.add_node('Collaboration (E_HG)')\n",
    "G.add_edge('Start', 'AI-generated (E_G)', probability=P_EG)\n",
    "G.add_edge('Start', 'Human-generated (E_H)', probability=P_EH)\n",
    "G.add_edge('Start', 'Collaboration (E_HG)', probability=P_EHG)\n",
    "\n",
    "# Second level branches for AI-generated\n",
    "G.add_node('Plagiarized | E_G')\n",
    "G.add_node('Authentic | E_G')\n",
    "G.add_edge('AI-generated (E_G)', 'Plagiarized | E_G', probability=P_EP_given_EG)\n",
    "G.add_edge('AI-generated (E_G)', 'Authentic | E_G', probability=P_EA_given_EG)\n",
    "\n",
    "# Second level branches for Human-generated\n",
    "G.add_node('Plagiarized | E_H')\n",
    "G.add_node('Authentic | E_H')\n",
    "G.add_edge('Human-generated (E_H)', 'Plagiarized | E_H', probability=P_EP_given_EH)\n",
    "G.add_edge('Human-generated (E_H)', 'Authentic | E_H', probability=P_EA_given_EH)\n",
    "\n",
    "# Second level branches for Collaboration\n",
    "G.add_node('Plagiarized | E_HG')\n",
    "G.add_node('Authentic | E_HG')\n",
    "G.add_edge('Collaboration (E_HG)', 'Plagiarized | E_HG', probability=P_EP_given_EHG)\n",
    "G.add_edge('Collaboration (E_HG)', 'Authentic | E_HG', probability=P_EA_given_EHG)\n",
    "\n",
    "# Position nodes\n",
    "pos = {\n",
    "    'Start': (0, 0),\n",
    "    'AI-generated (E_G)': (1, 1),\n",
    "    'Human-generated (E_H)': (1, 0),\n",
    "    'Collaboration (E_HG)': (1, -1),\n",
    "    'Plagiarized | E_G': (2, 1.5),\n",
    "    'Authentic | E_G': (2, 0.5),\n",
    "    'Plagiarized | E_H': (2, 0.5),\n",
    "    'Authentic | E_H': (2, -0.5),\n",
    "    'Plagiarized | E_HG': (2, -0.5),\n",
    "    'Authentic | E_HG': (2, -1.5)\n",
    "}\n",
    "\n",
    "# Draw the graph\n",
    "plt.figure(figsize=(12, 8))\n",
    "nx.draw(G, pos, with_labels=False, arrows=False, node_size=5000, node_color='lightblue')\n",
    "\n",
    "# Draw labels\n",
    "for node in G.nodes():\n",
    "    x, y = pos[node]\n",
    "    plt.text(x, y, node, horizontalalignment='center', verticalalignment='center', fontsize=10)\n",
    "\n",
    "# Draw edge labels\n",
    "edge_labels = {}\n",
    "for edge in G.edges(data=True):\n",
    "    start_node = edge[0]\n",
    "    end_node = edge[1]\n",
    "    prob = edge[2]['probability']\n",
    "    edge_labels[(start_node, end_node)] = f\"P = {prob:.2f}\"\n",
    "\n",
    "nx.draw_networkx_edge_labels(G, pos, edge_labels=edge_labels, font_color='red', font_size=9)\n",
    "\n",
    "plt.title('Probability Tree Diagram')\n",
    "plt.axis('off')\n",
    "plt.show()\n"
   ]
  },
  {
   "cell_type": "code",
   "execution_count": null,
   "id": "3044e24b",
   "metadata": {},
   "outputs": [],
   "source": []
  }
 ],
 "metadata": {
  "kernelspec": {
   "display_name": "Python 3 (ipykernel)",
   "language": "python",
   "name": "python3"
  },
  "language_info": {
   "codemirror_mode": {
    "name": "ipython",
    "version": 3
   },
   "file_extension": ".py",
   "mimetype": "text/x-python",
   "name": "python",
   "nbconvert_exporter": "python",
   "pygments_lexer": "ipython3",
   "version": "3.11.9"
  }
 },
 "nbformat": 4,
 "nbformat_minor": 5
}
