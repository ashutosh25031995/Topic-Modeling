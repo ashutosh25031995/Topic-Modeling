{
 "cells": [
  {
   "cell_type": "code",
   "execution_count": 4,
   "id": "3c869dd3-57fa-48c7-831f-1ad93b234ece",
   "metadata": {},
   "outputs": [],
   "source": [
    "Name = \"Ashutosh\""
   ]
  },
  {
   "cell_type": "code",
   "execution_count": 6,
   "id": "3360fe7a-6f6f-4cc7-99de-039f14eab172",
   "metadata": {},
   "outputs": [
    {
     "name": "stdout",
     "output_type": "stream",
     "text": [
      "<class 'str'>\n"
     ]
    }
   ],
   "source": [
    "print(type(Name))"
   ]
  },
  {
   "cell_type": "code",
   "execution_count": 20,
   "id": "ca97063d-e127-4562-85a6-0a1fefb302ea",
   "metadata": {},
   "outputs": [
    {
     "data": {
      "text/plain": [
       "'\\nb = \"cat\"\\nb = \"cat\"\\nb = \"cat\"\\nb = \"cat\"\\n'"
      ]
     },
     "execution_count": 20,
     "metadata": {},
     "output_type": "execute_result"
    }
   ],
   "source": [
    "\"\"\"\n",
    "b = \"cat\"\n",
    "b = \"cat\"\n",
    "b = \"cat\"\n",
    "b = \"cat\"\n",
    "\"\"\""
   ]
  },
  {
   "cell_type": "code",
   "execution_count": 2,
   "id": "f35a4f65-9277-4f44-ab65-c14d035eefea",
   "metadata": {},
   "outputs": [
    {
     "data": {
      "text/plain": [
       "('red', 'car')"
      ]
     },
     "execution_count": 2,
     "metadata": {},
     "output_type": "execute_result"
    }
   ],
   "source": [
    "('red' , 'car')"
   ]
  },
  {
   "cell_type": "code",
   "execution_count": 4,
   "id": "b84ec6e7-69e2-4f33-8871-15680f7136a5",
   "metadata": {},
   "outputs": [
    {
     "name": "stdout",
     "output_type": "stream",
     "text": [
      "red car\n"
     ]
    }
   ],
   "source": [
    "print('red' , 'car')"
   ]
  },
  {
   "cell_type": "code",
   "execution_count": 6,
   "id": "8063579f-f24c-4a5d-bcdf-5a98d438e44f",
   "metadata": {},
   "outputs": [
    {
     "data": {
      "text/plain": [
       "('red', 'car')"
      ]
     },
     "execution_count": 6,
     "metadata": {},
     "output_type": "execute_result"
    }
   ],
   "source": [
    "'red', 'car'"
   ]
  },
  {
   "cell_type": "code",
   "execution_count": 8,
   "id": "81d26cff-ceae-4768-9df4-68bb2de69ac8",
   "metadata": {},
   "outputs": [
    {
     "data": {
      "text/plain": [
       "(3, 5, 6, 7)"
      ]
     },
     "execution_count": 8,
     "metadata": {},
     "output_type": "execute_result"
    }
   ],
   "source": [
    "3 , 5 , 6 , 7"
   ]
  },
  {
   "cell_type": "code",
   "execution_count": 10,
   "id": "55c1e78a-c08a-4949-97dd-2692c6c0a96e",
   "metadata": {},
   "outputs": [
    {
     "name": "stdout",
     "output_type": "stream",
     "text": [
      "3 5 6 7\n"
     ]
    }
   ],
   "source": [
    "print(3 , 5 , 6 , 7)"
   ]
  },
  {
   "cell_type": "code",
   "execution_count": 12,
   "id": "60de9228-0ab5-42a4-976b-ac054c91b765",
   "metadata": {},
   "outputs": [
    {
     "name": "stdout",
     "output_type": "stream",
     "text": [
      "3 5 6 7\n"
     ]
    }
   ],
   "source": [
    "x=print(3 , 5 , 6 , 7)"
   ]
  },
  {
   "cell_type": "code",
   "execution_count": 14,
   "id": "b37edf9a-8a04-408a-9d32-95794932ce04",
   "metadata": {},
   "outputs": [
    {
     "data": {
      "text/plain": [
       "NoneType"
      ]
     },
     "execution_count": 14,
     "metadata": {},
     "output_type": "execute_result"
    }
   ],
   "source": [
    "type(x)"
   ]
  },
  {
   "cell_type": "code",
   "execution_count": 16,
   "id": "f051ab38-a1c1-4768-b253-618c3bb37b1e",
   "metadata": {},
   "outputs": [],
   "source": [
    "x"
   ]
  },
  {
   "cell_type": "code",
   "execution_count": 18,
   "id": "af78367a-4d49-4c3e-9770-a6087639919d",
   "metadata": {},
   "outputs": [],
   "source": [
    "x"
   ]
  },
  {
   "cell_type": "code",
   "execution_count": 26,
   "id": "da6a3860-f19c-43a7-aaff-c59cda3c41eb",
   "metadata": {},
   "outputs": [],
   "source": [
    "x = (3 , 5 , 6 , 7)"
   ]
  },
  {
   "cell_type": "code",
   "execution_count": 22,
   "id": "1137977f-566f-48a9-a806-8fd85aaee0e2",
   "metadata": {},
   "outputs": [
    {
     "data": {
      "text/plain": [
       "(3, 5, 6, 7)"
      ]
     },
     "execution_count": 22,
     "metadata": {},
     "output_type": "execute_result"
    }
   ],
   "source": [
    "x"
   ]
  },
  {
   "cell_type": "code",
   "execution_count": 24,
   "id": "300a18cf-7064-4510-bc85-6dc1beb08380",
   "metadata": {},
   "outputs": [
    {
     "name": "stdout",
     "output_type": "stream",
     "text": [
      "(3, 5, 6, 7)\n"
     ]
    }
   ],
   "source": [
    "print(x)"
   ]
  },
  {
   "cell_type": "code",
   "execution_count": 28,
   "id": "668e628d-98a3-40a0-adc9-83e30015243f",
   "metadata": {},
   "outputs": [
    {
     "data": {
      "text/plain": [
       "'RedCar'"
      ]
     },
     "execution_count": 28,
     "metadata": {},
     "output_type": "execute_result"
    }
   ],
   "source": [
    "\"Red\" \"Car\""
   ]
  },
  {
   "cell_type": "code",
   "execution_count": 32,
   "id": "32dbf30f-3f19-4e0b-b418-368cc97cc114",
   "metadata": {},
   "outputs": [
    {
     "data": {
      "text/plain": [
       "'RedCar'"
      ]
     },
     "execution_count": 32,
     "metadata": {},
     "output_type": "execute_result"
    }
   ],
   "source": [
    "(\"Red\" + \"Car\")"
   ]
  },
  {
   "cell_type": "code",
   "execution_count": 34,
   "id": "2ed40f6f-d83b-419e-ac97-f49e176f1e27",
   "metadata": {},
   "outputs": [
    {
     "data": {
      "text/plain": [
       "('Red', 'Car')"
      ]
     },
     "execution_count": 34,
     "metadata": {},
     "output_type": "execute_result"
    }
   ],
   "source": [
    "\"Red\" , \"Car\""
   ]
  },
  {
   "cell_type": "code",
   "execution_count": 36,
   "id": "75e99db6-1b1e-4803-bce8-4a532dbdae53",
   "metadata": {},
   "outputs": [
    {
     "data": {
      "text/plain": [
       "('Red', 'Car')"
      ]
     },
     "execution_count": 36,
     "metadata": {},
     "output_type": "execute_result"
    }
   ],
   "source": [
    "(\"Red\", \"Car\")"
   ]
  },
  {
   "cell_type": "code",
   "execution_count": 38,
   "id": "826c457f-0295-4f88-8315-95d362488668",
   "metadata": {},
   "outputs": [
    {
     "name": "stdout",
     "output_type": "stream",
     "text": [
      "Red Car\n"
     ]
    }
   ],
   "source": [
    "print ('Red', 'Car')"
   ]
  },
  {
   "cell_type": "code",
   "execution_count": 40,
   "id": "af966c96-368f-49e3-86e1-a73327ec8b77",
   "metadata": {},
   "outputs": [],
   "source": [
    "result = \"python\" \"is\" \"fun\""
   ]
  },
  {
   "cell_type": "code",
   "execution_count": 42,
   "id": "339fbeb0-ba14-4045-8410-8f329c5a1ea2",
   "metadata": {},
   "outputs": [
    {
     "name": "stdout",
     "output_type": "stream",
     "text": [
      "pythonisfun\n"
     ]
    }
   ],
   "source": [
    "print(result)"
   ]
  },
  {
   "cell_type": "code",
   "execution_count": 46,
   "id": "b1276414-7f40-4f59-b859-638571ca98e5",
   "metadata": {},
   "outputs": [],
   "source": [
    "result = \"python\", \"is\" ,\"fun\""
   ]
  },
  {
   "cell_type": "code",
   "execution_count": 50,
   "id": "eb2d86bb-e7d3-4810-a650-c9e05b1805d1",
   "metadata": {},
   "outputs": [
    {
     "name": "stdout",
     "output_type": "stream",
     "text": [
      "('python', 'is', 'fun')\n"
     ]
    }
   ],
   "source": [
    "print(result)"
   ]
  },
  {
   "cell_type": "code",
   "execution_count": 52,
   "id": "e4029f56-65e3-499f-8a68-2908fa8433b9",
   "metadata": {},
   "outputs": [],
   "source": [
    "result = 'python', 'is' ,'fun'"
   ]
  },
  {
   "cell_type": "code",
   "execution_count": 54,
   "id": "e3b94ae0-5596-41e6-89c0-769911c8f645",
   "metadata": {},
   "outputs": [
    {
     "name": "stdout",
     "output_type": "stream",
     "text": [
      "('python', 'is', 'fun')\n"
     ]
    }
   ],
   "source": [
    "print(result)"
   ]
  },
  {
   "cell_type": "code",
   "execution_count": 56,
   "id": "7c45dc5a-5994-4381-ac18-872bdb251386",
   "metadata": {},
   "outputs": [
    {
     "name": "stdout",
     "output_type": "stream",
     "text": [
      "python is fun\n"
     ]
    }
   ],
   "source": [
    "print('python', 'is', 'fun')"
   ]
  },
  {
   "cell_type": "code",
   "execution_count": 58,
   "id": "7bc310aa-e4e6-4c53-846c-d1cbb5c13453",
   "metadata": {},
   "outputs": [
    {
     "data": {
      "text/plain": [
       "'PYTHONISFUN'"
      ]
     },
     "execution_count": 58,
     "metadata": {},
     "output_type": "execute_result"
    }
   ],
   "source": [
    "\"PYTHON\" \"IS\" \"FUN\""
   ]
  },
  {
   "cell_type": "code",
   "execution_count": 60,
   "id": "1f9f91fb-098d-402a-a885-5a0b167403b5",
   "metadata": {},
   "outputs": [],
   "source": [
    "RESULT = \"PYTHON\" \"IS\" \"FUN\""
   ]
  },
  {
   "cell_type": "code",
   "execution_count": 62,
   "id": "68e85770-4893-413b-85f6-8ded5a8f7df7",
   "metadata": {},
   "outputs": [
    {
     "name": "stdout",
     "output_type": "stream",
     "text": [
      "PYTHONISFUN\n"
     ]
    }
   ],
   "source": [
    "print(RESULT )"
   ]
  },
  {
   "cell_type": "code",
   "execution_count": 64,
   "id": "18a3090d-970f-4532-bb11-71b73fc1d01d",
   "metadata": {},
   "outputs": [
    {
     "name": "stdout",
     "output_type": "stream",
     "text": [
      "PYTHON IS FUN\n"
     ]
    }
   ],
   "source": [
    "print(\"PYTHON\", \"IS\" ,\"FUN\")"
   ]
  },
  {
   "cell_type": "code",
   "execution_count": 168,
   "id": "cca2ec20-094e-4c44-b1bb-ec69894b1cf1",
   "metadata": {},
   "outputs": [],
   "source": [
    "x,y,z = (\"PYTHON\", \"IS\" ,\"FUN\")"
   ]
  },
  {
   "cell_type": "code",
   "execution_count": 170,
   "id": "417f35a3-7e6f-427f-846b-1f64bef39d33",
   "metadata": {},
   "outputs": [
    {
     "name": "stdout",
     "output_type": "stream",
     "text": [
      "PYTHON IS FUN\n"
     ]
    }
   ],
   "source": [
    "print(x,y,z)"
   ]
  },
  {
   "cell_type": "code",
   "execution_count": 71,
   "id": "0a97ba76-5085-45e8-af8d-8821821623fd",
   "metadata": {},
   "outputs": [
    {
     "name": "stdout",
     "output_type": "stream",
     "text": [
      "3 5 Ashu\n"
     ]
    }
   ],
   "source": [
    "print(\"3\",\"5\" , \"Ashu\")"
   ]
  },
  {
   "cell_type": "code",
   "execution_count": 73,
   "id": "54113b01-0025-4b1c-91a4-ff7792941989",
   "metadata": {},
   "outputs": [
    {
     "data": {
      "text/plain": [
       "2"
      ]
     },
     "execution_count": 73,
     "metadata": {},
     "output_type": "execute_result"
    }
   ],
   "source": [
    "22%4"
   ]
  },
  {
   "cell_type": "code",
   "execution_count": 75,
   "id": "35c7622e-afc7-45e2-be25-96ebe2743d7e",
   "metadata": {},
   "outputs": [
    {
     "data": {
      "text/plain": [
       "5.5"
      ]
     },
     "execution_count": 75,
     "metadata": {},
     "output_type": "execute_result"
    }
   ],
   "source": [
    "float(22.0)/4"
   ]
  },
  {
   "cell_type": "code",
   "execution_count": 77,
   "id": "47cf6ccb-9c66-4c13-8647-3f040c4ca2d1",
   "metadata": {},
   "outputs": [],
   "source": [
    "x=float(22.0)/4"
   ]
  },
  {
   "cell_type": "code",
   "execution_count": 79,
   "id": "d2d48224-4b00-4114-8f2c-1608b4ebe211",
   "metadata": {},
   "outputs": [
    {
     "data": {
      "text/plain": [
       "5.5"
      ]
     },
     "execution_count": 79,
     "metadata": {},
     "output_type": "execute_result"
    }
   ],
   "source": [
    "x"
   ]
  },
  {
   "cell_type": "code",
   "execution_count": 81,
   "id": "2d82d8d6-c64e-42e9-9927-8c08c6182ce4",
   "metadata": {},
   "outputs": [
    {
     "data": {
      "text/plain": [
       "float"
      ]
     },
     "execution_count": 81,
     "metadata": {},
     "output_type": "execute_result"
    }
   ],
   "source": [
    "type(x)"
   ]
  },
  {
   "cell_type": "code",
   "execution_count": 83,
   "id": "4c01f76d-5b25-46ae-8b8d-e8adabc22d68",
   "metadata": {},
   "outputs": [],
   "source": [
    "x = 125"
   ]
  },
  {
   "cell_type": "code",
   "execution_count": 85,
   "id": "9971267d-d03c-4917-9c37-1baac4a08072",
   "metadata": {},
   "outputs": [
    {
     "data": {
      "text/plain": [
       "True"
      ]
     },
     "execution_count": 85,
     "metadata": {},
     "output_type": "execute_result"
    }
   ],
   "source": [
    "x == 125"
   ]
  },
  {
   "cell_type": "code",
   "execution_count": 87,
   "id": "69175b27-4c4f-4298-a9f9-12742d70a4bd",
   "metadata": {},
   "outputs": [
    {
     "data": {
      "text/plain": [
       "False"
      ]
     },
     "execution_count": 87,
     "metadata": {},
     "output_type": "execute_result"
    }
   ],
   "source": [
    "100 == 98"
   ]
  },
  {
   "cell_type": "code",
   "execution_count": 89,
   "id": "88a135a0-38f5-4f68-95f0-bd1fe17153ec",
   "metadata": {},
   "outputs": [],
   "source": [
    "x = 100"
   ]
  },
  {
   "cell_type": "code",
   "execution_count": 91,
   "id": "8cb868ef-bfca-4b26-b65d-74d77cc32dda",
   "metadata": {},
   "outputs": [],
   "source": [
    "y = 98"
   ]
  },
  {
   "cell_type": "code",
   "execution_count": 93,
   "id": "264ebfca-fc0d-4426-8ded-4c5861db74e5",
   "metadata": {},
   "outputs": [
    {
     "data": {
      "text/plain": [
       "False"
      ]
     },
     "execution_count": 93,
     "metadata": {},
     "output_type": "execute_result"
    }
   ],
   "source": [
    "x == y"
   ]
  },
  {
   "cell_type": "code",
   "execution_count": 95,
   "id": "37f89afe-e841-4785-a7af-9ba9c5b40a8c",
   "metadata": {},
   "outputs": [
    {
     "data": {
      "text/plain": [
       "True"
      ]
     },
     "execution_count": 95,
     "metadata": {},
     "output_type": "execute_result"
    }
   ],
   "source": [
    "100 == 100"
   ]
  },
  {
   "cell_type": "code",
   "execution_count": 97,
   "id": "5fe1de94-4d5d-46c1-80d0-212ec811c9df",
   "metadata": {},
   "outputs": [],
   "source": [
    "p = 14"
   ]
  },
  {
   "cell_type": "code",
   "execution_count": 99,
   "id": "6aece23b-9b81-4526-bced-f42f87eafd41",
   "metadata": {},
   "outputs": [
    {
     "data": {
      "text/plain": [
       "24"
      ]
     },
     "execution_count": 99,
     "metadata": {},
     "output_type": "execute_result"
    }
   ],
   "source": [
    "p + 10"
   ]
  },
  {
   "cell_type": "code",
   "execution_count": 101,
   "id": "44a51137-cbef-4ae9-ac90-0855ebbd2eeb",
   "metadata": {},
   "outputs": [
    {
     "name": "stdout",
     "output_type": "stream",
     "text": [
      "24\n"
     ]
    }
   ],
   "source": [
    "print(p+ 10)"
   ]
  },
  {
   "cell_type": "code",
   "execution_count": 115,
   "id": "779b9044-bc36-402f-b6bc-718434669c1c",
   "metadata": {},
   "outputs": [],
   "source": [
    "p = \"10 \""
   ]
  },
  {
   "cell_type": "code",
   "execution_count": 117,
   "id": "b6635512-e00b-439a-8fcc-35101c617284",
   "metadata": {},
   "outputs": [
    {
     "name": "stdout",
     "output_type": "stream",
     "text": [
      "10 10\n"
     ]
    }
   ],
   "source": [
    "print ( p + str( 10))\n"
   ]
  },
  {
   "cell_type": "code",
   "execution_count": 119,
   "id": "1d734070-70e2-4c6d-a065-5b6bef7e18b2",
   "metadata": {},
   "outputs": [
    {
     "data": {
      "text/plain": [
       "76.66666666666667"
      ]
     },
     "execution_count": 119,
     "metadata": {},
     "output_type": "execute_result"
    }
   ],
   "source": [
    "10 + 10 * 100 /15"
   ]
  },
  {
   "cell_type": "code",
   "execution_count": 121,
   "id": "c1831c82-281f-43e2-99ad-db5ef97f917c",
   "metadata": {},
   "outputs": [
    {
     "data": {
      "text/plain": [
       "76.66666666666667"
      ]
     },
     "execution_count": 121,
     "metadata": {},
     "output_type": "execute_result"
    }
   ],
   "source": [
    "10 + 10 * 100 /15"
   ]
  },
  {
   "cell_type": "code",
   "execution_count": 123,
   "id": "4caf97b7-e9b2-49ea-b867-2f71502c6dcb",
   "metadata": {},
   "outputs": [
    {
     "data": {
      "text/plain": [
       "76.66666666666667"
      ]
     },
     "execution_count": 123,
     "metadata": {},
     "output_type": "execute_result"
    }
   ],
   "source": [
    "10 + 10 *\\\n",
    "100 /15"
   ]
  },
  {
   "cell_type": "code",
   "execution_count": 125,
   "id": "2846e1b9-0489-4ee0-8739-d09f7fbbf01a",
   "metadata": {},
   "outputs": [
    {
     "data": {
      "text/plain": [
       "'d'"
      ]
     },
     "execution_count": 125,
     "metadata": {},
     "output_type": "execute_result"
    }
   ],
   "source": [
    "\"Friday\"[3]"
   ]
  },
  {
   "cell_type": "code",
   "execution_count": 127,
   "id": "3328f126-57b0-4d39-90d6-2603bf0ded74",
   "metadata": {},
   "outputs": [
    {
     "name": "stdout",
     "output_type": "stream",
     "text": [
      "Y\n"
     ]
    }
   ],
   "source": [
    "print(\"FridaY\"[5])"
   ]
  },
  {
   "cell_type": "code",
   "execution_count": 150,
   "id": "36592163-4650-4268-82ab-a3687420a3f0",
   "metadata": {},
   "outputs": [
    {
     "name": "stdout",
     "output_type": "stream",
     "text": [
      "100\n"
     ]
    }
   ],
   "source": [
    "def five(x):\n",
    "    'x = 5'\n",
    "    return(x)\n",
    "\n",
    "print(x)\n"
   ]
  },
  {
   "cell_type": "code",
   "execution_count": 152,
   "id": "97b308d3-4731-4779-bfc2-3c9ebce39dbe",
   "metadata": {},
   "outputs": [
    {
     "name": "stdout",
     "output_type": "stream",
     "text": [
      "100\n"
     ]
    }
   ],
   "source": [
    "def five(x):\n",
    "    'x = 5'  # Correct the indentation of the string\n",
    "    return(x)\n",
    "\n",
    "print(x)"
   ]
  },
  {
   "cell_type": "code",
   "execution_count": 174,
   "id": "53f17e74-c2bb-44ff-a043-5b3025d312ec",
   "metadata": {},
   "outputs": [],
   "source": [
    "x = \"Ashutosh is my name.\""
   ]
  },
  {
   "cell_type": "code",
   "execution_count": 176,
   "id": "742836d5-5d16-41e0-96bd-4c88df82b283",
   "metadata": {},
   "outputs": [],
   "source": [
    "y= \"I am good\""
   ]
  },
  {
   "cell_type": "code",
   "execution_count": 178,
   "id": "359a1931-2d04-4503-bebd-380b54e0a1d9",
   "metadata": {},
   "outputs": [
    {
     "name": "stdout",
     "output_type": "stream",
     "text": [
      "Ashutosh is my name. I am good\n"
     ]
    }
   ],
   "source": [
    "print(x,y)"
   ]
  },
  {
   "cell_type": "code",
   "execution_count": 180,
   "id": "eb4897bc-6a52-47e9-95ae-ea53648b1da9",
   "metadata": {},
   "outputs": [
    {
     "data": {
      "text/plain": [
       "('Ashutosh is my name.', 'I am good')"
      ]
     },
     "execution_count": 180,
     "metadata": {},
     "output_type": "execute_result"
    }
   ],
   "source": [
    "x,y"
   ]
  },
  {
   "cell_type": "code",
   "execution_count": null,
   "id": "307fef0d-315e-42de-ac1d-ba1197afce07",
   "metadata": {},
   "outputs": [],
   "source": [
    "\n",
    "\n",
    "\n",
    "\n",
    "\n",
    "\n",
    "\n",
    "\n",
    "\n",
    "\n",
    "\n",
    "\n",
    "\n",
    "\n",
    "\n",
    "\n",
    "\n",
    "\n",
    "\n"
   ]
  }
 ],
 "metadata": {
  "kernelspec": {
   "display_name": "Python 3 (ipykernel)",
   "language": "python",
   "name": "python3"
  },
  "language_info": {
   "codemirror_mode": {
    "name": "ipython",
    "version": 3
   },
   "file_extension": ".py",
   "mimetype": "text/x-python",
   "name": "python",
   "nbconvert_exporter": "python",
   "pygments_lexer": "ipython3",
   "version": "3.11.9"
  }
 },
 "nbformat": 4,
 "nbformat_minor": 5
}
