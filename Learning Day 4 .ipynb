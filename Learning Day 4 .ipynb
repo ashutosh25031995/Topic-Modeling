{
 "cells": [
  {
   "cell_type": "code",
   "execution_count": 47,
   "id": "cb6751b5-80d8-4f80-b43b-cefa89f95f86",
   "metadata": {},
   "outputs": [
    {
     "data": {
      "text/plain": [
       "3"
      ]
     },
     "execution_count": 47,
     "metadata": {},
     "output_type": "execute_result"
    }
   ],
   "source": [
    "1+2"
   ]
  },
  {
   "cell_type": "code",
   "execution_count": 49,
   "id": "7ce2d56a-af91-4cc3-8a91-b36d5a699e1a",
   "metadata": {},
   "outputs": [],
   "source": [
    "name= \"Hello\""
   ]
  },
  {
   "cell_type": "code",
   "execution_count": 51,
   "id": "908d212f-0329-444c-94d2-74d1f2a67a98",
   "metadata": {},
   "outputs": [
    {
     "name": "stdout",
     "output_type": "stream",
     "text": [
      "You say this when u pick up the phone: Hello\n"
     ]
    }
   ],
   "source": [
    "print(\"You say this when u pick up the phone:\",name)"
   ]
  },
  {
   "cell_type": "code",
   "execution_count": 53,
   "id": "4588da5c-3a1a-431e-bb9b-9f617317ec47",
   "metadata": {},
   "outputs": [
    {
     "ename": "SyntaxError",
     "evalue": "invalid syntax. Perhaps you forgot a comma? (3774463035.py, line 1)",
     "output_type": "error",
     "traceback": [
      "\u001b[1;36m  Cell \u001b[1;32mIn[53], line 1\u001b[1;36m\u001b[0m\n\u001b[1;33m    print(\"You say this when u pick up the phone:\" name)\u001b[0m\n\u001b[1;37m          ^\u001b[0m\n\u001b[1;31mSyntaxError\u001b[0m\u001b[1;31m:\u001b[0m invalid syntax. Perhaps you forgot a comma?\n"
     ]
    }
   ],
   "source": [
    "print(\"You say this when u pick up the phone:\" name)"
   ]
  },
  {
   "cell_type": "code",
   "execution_count": 55,
   "id": "a4c138cc-c562-4ac7-ab74-dcb05c30a1e7",
   "metadata": {},
   "outputs": [
    {
     "name": "stdout",
     "output_type": "stream",
     "text": [
      "You say this when u pick up the phone:Hello\n"
     ]
    }
   ],
   "source": [
    "print(\"You say this when u pick up the phone:\" + name)"
   ]
  },
  {
   "cell_type": "code",
   "execution_count": 57,
   "id": "e29e204b-ceed-483a-bb2e-dc0c47af0027",
   "metadata": {},
   "outputs": [],
   "source": [
    "variable1 = \" Hello\""
   ]
  },
  {
   "cell_type": "code",
   "execution_count": 59,
   "id": "d4d2efa6-ddc6-41e0-a467-0accf69e4e09",
   "metadata": {},
   "outputs": [
    {
     "ename": "SyntaxError",
     "evalue": "invalid decimal literal (3956188647.py, line 1)",
     "output_type": "error",
     "traceback": [
      "\u001b[1;36m  Cell \u001b[1;32mIn[59], line 1\u001b[1;36m\u001b[0m\n\u001b[1;33m    1variable = \"Hello\"\u001b[0m\n\u001b[1;37m    ^\u001b[0m\n\u001b[1;31mSyntaxError\u001b[0m\u001b[1;31m:\u001b[0m invalid decimal literal\n"
     ]
    }
   ],
   "source": [
    "1variable = \"Hello\""
   ]
  },
  {
   "cell_type": "code",
   "execution_count": 61,
   "id": "6dfdb25e-9f1f-446d-aa26-60bd7f9ec5ae",
   "metadata": {},
   "outputs": [
    {
     "ename": "NameError",
     "evalue": "name 'variable' is not defined",
     "output_type": "error",
     "traceback": [
      "\u001b[1;31m---------------------------------------------------------------------------\u001b[0m",
      "\u001b[1;31mNameError\u001b[0m                                 Traceback (most recent call last)",
      "Cell \u001b[1;32mIn[61], line 1\u001b[0m\n\u001b[1;32m----> 1\u001b[0m variable\n",
      "\u001b[1;31mNameError\u001b[0m: name 'variable' is not defined"
     ]
    }
   ],
   "source": [
    "variable#%@ = 25.3655"
   ]
  },
  {
   "cell_type": "code",
   "execution_count": 63,
   "id": "cd5fecf9-149d-40e0-90ef-06dfdd13fde2",
   "metadata": {},
   "outputs": [],
   "source": [
    "Name = \"Asdhu\""
   ]
  },
  {
   "cell_type": "code",
   "execution_count": 65,
   "id": "a117b1f9-09e3-4231-b8de-16bb416d0876",
   "metadata": {},
   "outputs": [
    {
     "name": "stdout",
     "output_type": "stream",
     "text": [
      "<class 'str'>\n"
     ]
    }
   ],
   "source": [
    "print(type(Name))"
   ]
  },
  {
   "cell_type": "code",
   "execution_count": 67,
   "id": "7afb668a-2ccc-4de8-8da1-4048cb740f87",
   "metadata": {},
   "outputs": [
    {
     "data": {
      "text/plain": [
       "'Hello'"
      ]
     },
     "execution_count": 67,
     "metadata": {},
     "output_type": "execute_result"
    }
   ],
   "source": [
    "\"Hello\""
   ]
  },
  {
   "cell_type": "code",
   "execution_count": 69,
   "id": "f35c287f-acb0-4a68-9cd2-38e1978ab415",
   "metadata": {},
   "outputs": [
    {
     "data": {
      "text/plain": [
       "'Hello'"
      ]
     },
     "execution_count": 69,
     "metadata": {},
     "output_type": "execute_result"
    }
   ],
   "source": [
    "'Hello'"
   ]
  },
  {
   "cell_type": "code",
   "execution_count": 71,
   "id": "b13efea0-5a10-49ed-a5d7-353e28e45f53",
   "metadata": {},
   "outputs": [
    {
     "ename": "SyntaxError",
     "evalue": "unterminated string literal (detected at line 1) (3302448073.py, line 1)",
     "output_type": "error",
     "traceback": [
      "\u001b[1;36m  Cell \u001b[1;32mIn[71], line 1\u001b[1;36m\u001b[0m\n\u001b[1;33m    \"'Hello\"'\u001b[0m\n\u001b[1;37m            ^\u001b[0m\n\u001b[1;31mSyntaxError\u001b[0m\u001b[1;31m:\u001b[0m unterminated string literal (detected at line 1)\n"
     ]
    }
   ],
   "source": [
    "\"'Hello\"'"
   ]
  },
  {
   "cell_type": "code",
   "execution_count": 83,
   "id": "f1810c5e-8a69-416c-99e4-da67f7f4e947",
   "metadata": {},
   "outputs": [],
   "source": [
    "j = \"\"\"Hello  eveytyyyyyyyyyjtyj rtrtrtrtuytyu yuytdtuy tytuy \n",
    "Hello  eveytyyyyyyyyyjtyj rtrtrtrtuytyu yuytdtuy tytuy\n",
    "Hello  eveytyyyyyyyyyjtyj rtrtrtrtuytyu yuytdtuy tytuy\"\"\""
   ]
  },
  {
   "cell_type": "code",
   "execution_count": 85,
   "id": "d84e1b3a-8908-4983-8f27-f40638142294",
   "metadata": {},
   "outputs": [
    {
     "name": "stdout",
     "output_type": "stream",
     "text": [
      "Hello  eveytyyyyyyyyyjtyj rtrtrtrtuytyu yuytdtuy tytuy \n",
      "Hello  eveytyyyyyyyyyjtyj rtrtrtrtuytyu yuytdtuy tytuy\n",
      "Hello  eveytyyyyyyyyyjtyj rtrtrtrtuytyu yuytdtuy tytuy\n"
     ]
    }
   ],
   "source": [
    "print(j)"
   ]
  },
  {
   "cell_type": "code",
   "execution_count": 87,
   "id": "12aaa696-1b1c-4147-87d0-86727d9b6c09",
   "metadata": {},
   "outputs": [],
   "source": [
    "old = False"
   ]
  },
  {
   "cell_type": "code",
   "execution_count": 89,
   "id": "09a8617b-27e7-4afb-8c68-7366f5e6c1c8",
   "metadata": {},
   "outputs": [],
   "source": [
    "a = None"
   ]
  },
  {
   "cell_type": "code",
   "execution_count": 91,
   "id": "1ed32518-e970-4619-bdad-1b770d84a8cc",
   "metadata": {},
   "outputs": [
    {
     "name": "stdout",
     "output_type": "stream",
     "text": [
      "<class 'NoneType'>\n"
     ]
    }
   ],
   "source": [
    "print(type(a))"
   ]
  },
  {
   "cell_type": "code",
   "execution_count": 93,
   "id": "73d41eb4-41ec-4255-8bad-f0e8a00d1d46",
   "metadata": {},
   "outputs": [
    {
     "name": "stdout",
     "output_type": "stream",
     "text": [
      "<class 'bool'>\n"
     ]
    }
   ],
   "source": [
    "print(type(old))"
   ]
  },
  {
   "cell_type": "code",
   "execution_count": 95,
   "id": "e4328011-3ec1-4b48-87fd-ff6823b69462",
   "metadata": {},
   "outputs": [],
   "source": [
    "a = 2"
   ]
  },
  {
   "cell_type": "code",
   "execution_count": 97,
   "id": "b9911fe9-b8f1-45e9-92d4-409822d30b86",
   "metadata": {},
   "outputs": [],
   "source": [
    "b = 6"
   ]
  },
  {
   "cell_type": "code",
   "execution_count": 99,
   "id": "21b1e825-957a-4dea-8f56-1e321884e740",
   "metadata": {},
   "outputs": [],
   "source": [
    "sum = a + b"
   ]
  },
  {
   "cell_type": "code",
   "execution_count": 101,
   "id": "fc5897f5-6fd4-4a9e-87eb-a877a67eca88",
   "metadata": {},
   "outputs": [
    {
     "data": {
      "text/plain": [
       "8"
      ]
     },
     "execution_count": 101,
     "metadata": {},
     "output_type": "execute_result"
    }
   ],
   "source": [
    "sum"
   ]
  },
  {
   "cell_type": "code",
   "execution_count": 103,
   "id": "002d0bff-d73f-4e5d-9b9e-1b53fe72afbb",
   "metadata": {},
   "outputs": [
    {
     "name": "stdout",
     "output_type": "stream",
     "text": [
      "8\n"
     ]
    }
   ],
   "source": [
    "# print(sum)\n",
    "# hello this is a comment"
   ]
  },
  {
   "cell_type": "code",
   "execution_count": 109,
   "id": "96b25bcd-8b66-462b-934f-67111de965e2",
   "metadata": {},
   "outputs": [
    {
     "data": {
      "text/plain": [
       "'\\nyjjyyyytyty\\nytiyttttt\\n'"
      ]
     },
     "execution_count": 109,
     "metadata": {},
     "output_type": "execute_result"
    }
   ],
   "source": [
    "'''\n",
    "yjjyyyytyty\n",
    "ytiyttttt\n",
    "'''"
   ]
  },
  {
   "cell_type": "code",
   "execution_count": 115,
   "id": "e3f31b81-6ebe-4c56-99d3-c8fc93322fcd",
   "metadata": {},
   "outputs": [],
   "source": [
    " a = 50"
   ]
  },
  {
   "cell_type": "code",
   "execution_count": 117,
   "id": "2750a704-a315-44a6-9fbf-493850231802",
   "metadata": {},
   "outputs": [],
   "source": [
    "b = 20"
   ]
  },
  {
   "cell_type": "code",
   "execution_count": 119,
   "id": "e35e8caa-7070-41fe-bb5f-66bda0f97cca",
   "metadata": {},
   "outputs": [
    {
     "data": {
      "text/plain": [
       "False"
      ]
     },
     "execution_count": 119,
     "metadata": {},
     "output_type": "execute_result"
    }
   ],
   "source": [
    "a == b"
   ]
  },
  {
   "cell_type": "code",
   "execution_count": 121,
   "id": "75049d25-4921-4966-b973-890934cf6a45",
   "metadata": {},
   "outputs": [
    {
     "data": {
      "text/plain": [
       "True"
      ]
     },
     "execution_count": 121,
     "metadata": {},
     "output_type": "execute_result"
    }
   ],
   "source": [
    "a!=b"
   ]
  },
  {
   "cell_type": "code",
   "execution_count": 123,
   "id": "5316994c-1abc-473b-ade4-6252188c114f",
   "metadata": {},
   "outputs": [
    {
     "data": {
      "text/plain": [
       "True"
      ]
     },
     "execution_count": 123,
     "metadata": {},
     "output_type": "execute_result"
    }
   ],
   "source": [
    "a >= b"
   ]
  },
  {
   "cell_type": "code",
   "execution_count": 125,
   "id": "c3a4b0e4-f664-4e30-8a54-c58f75a00bcb",
   "metadata": {},
   "outputs": [
    {
     "data": {
      "text/plain": [
       "True"
      ]
     },
     "execution_count": 125,
     "metadata": {},
     "output_type": "execute_result"
    }
   ],
   "source": [
    "a > b"
   ]
  },
  {
   "cell_type": "code",
   "execution_count": 127,
   "id": "20f2f43e-b67e-40f7-994a-3a30fbd27788",
   "metadata": {},
   "outputs": [
    {
     "data": {
      "text/plain": [
       "False"
      ]
     },
     "execution_count": 127,
     "metadata": {},
     "output_type": "execute_result"
    }
   ],
   "source": [
    "a <= b"
   ]
  },
  {
   "cell_type": "code",
   "execution_count": 129,
   "id": "188b5a04-c7e9-42bd-b0c3-f216948ba2d8",
   "metadata": {},
   "outputs": [
    {
     "data": {
      "text/plain": [
       "False"
      ]
     },
     "execution_count": 129,
     "metadata": {},
     "output_type": "execute_result"
    }
   ],
   "source": [
    "a < b"
   ]
  },
  {
   "cell_type": "code",
   "execution_count": 141,
   "id": "5c70190b-277a-4e4d-9a10-683b0cb6c6b2",
   "metadata": {},
   "outputs": [],
   "source": [
    "num = 10"
   ]
  },
  {
   "cell_type": "code",
   "execution_count": 143,
   "id": "06af0510-3035-43ee-8cc1-53c38ca80c83",
   "metadata": {},
   "outputs": [],
   "source": [
    "num1 = num + 10"
   ]
  },
  {
   "cell_type": "code",
   "execution_count": 147,
   "id": "5917ec34-c36c-415a-b05e-49d6877570d6",
   "metadata": {},
   "outputs": [
    {
     "name": "stdout",
     "output_type": "stream",
     "text": [
      "20\n"
     ]
    }
   ],
   "source": [
    "print(num1)"
   ]
  },
  {
   "cell_type": "code",
   "execution_count": 149,
   "id": "81b11dbe-ba14-4fac-a938-a7f631c71365",
   "metadata": {},
   "outputs": [],
   "source": [
    "Num = 20"
   ]
  },
  {
   "cell_type": "code",
   "execution_count": 153,
   "id": "d0167c91-7e4d-4ee2-aa1f-b1266dcfdb22",
   "metadata": {},
   "outputs": [],
   "source": [
    "Num += 10"
   ]
  },
  {
   "cell_type": "code",
   "execution_count": 155,
   "id": "90c37451-e864-4d6c-ac49-98d51c50a6e0",
   "metadata": {},
   "outputs": [
    {
     "name": "stdout",
     "output_type": "stream",
     "text": [
      "num : 30\n"
     ]
    }
   ],
   "source": [
    "print(\"num :\",Num)"
   ]
  },
  {
   "cell_type": "code",
   "execution_count": 157,
   "id": "cd26878f-16f3-479f-9818-99f4800cfb7c",
   "metadata": {},
   "outputs": [],
   "source": [
    "num -= 10"
   ]
  },
  {
   "cell_type": "code",
   "execution_count": 159,
   "id": "49ce3afe-c3f3-48e6-a872-477add448354",
   "metadata": {},
   "outputs": [
    {
     "data": {
      "text/plain": [
       "0"
      ]
     },
     "execution_count": 159,
     "metadata": {},
     "output_type": "execute_result"
    }
   ],
   "source": [
    "num"
   ]
  },
  {
   "cell_type": "code",
   "execution_count": 195,
   "id": "8f423ea0-0831-4f12-8b2d-0712978d45d0",
   "metadata": {},
   "outputs": [],
   "source": [
    "num = 10"
   ]
  },
  {
   "cell_type": "code",
   "execution_count": 201,
   "id": "d17cdd24-81d1-4226-a621-a113ad971706",
   "metadata": {},
   "outputs": [],
   "source": [
    "num **= 6"
   ]
  },
  {
   "cell_type": "code",
   "execution_count": 205,
   "id": "c6bfcc85-2b82-448b-ae78-09a38be105e0",
   "metadata": {},
   "outputs": [
    {
     "data": {
      "text/plain": [
       "4096"
      ]
     },
     "execution_count": 205,
     "metadata": {},
     "output_type": "execute_result"
    }
   ],
   "source": [
    "num"
   ]
  },
  {
   "cell_type": "code",
   "execution_count": 207,
   "id": "0e71202b-a37f-448a-b2ce-61defcd95a81",
   "metadata": {},
   "outputs": [
    {
     "data": {
      "text/plain": [
       "True"
      ]
     },
     "execution_count": 207,
     "metadata": {},
     "output_type": "execute_result"
    }
   ],
   "source": [
    "not False"
   ]
  },
  {
   "cell_type": "code",
   "execution_count": 209,
   "id": "353274b7-056b-4b3f-b9be-90053c10bfe9",
   "metadata": {},
   "outputs": [
    {
     "data": {
      "text/plain": [
       "False"
      ]
     },
     "execution_count": 209,
     "metadata": {},
     "output_type": "execute_result"
    }
   ],
   "source": [
    "not True"
   ]
  },
  {
   "cell_type": "code",
   "execution_count": 211,
   "id": "68b57bce-cd4c-49d8-a2a2-d0d29d0f89b4",
   "metadata": {},
   "outputs": [],
   "source": [
    "a = 50"
   ]
  },
  {
   "cell_type": "code",
   "execution_count": 213,
   "id": "bf2ba493-6de6-4318-ab18-cfe8d5e62334",
   "metadata": {},
   "outputs": [],
   "source": [
    "b = 30"
   ]
  },
  {
   "cell_type": "code",
   "execution_count": 217,
   "id": "875a91d4-16f1-404f-a03c-3ccb9808ee90",
   "metadata": {},
   "outputs": [
    {
     "name": "stdout",
     "output_type": "stream",
     "text": [
      "False\n"
     ]
    }
   ],
   "source": [
    "print( not a>b)"
   ]
  },
  {
   "cell_type": "code",
   "execution_count": 2,
   "id": "6ffefc9c-6f94-4ee2-a3c0-d0924902cb05",
   "metadata": {},
   "outputs": [],
   "source": [
    "val1 = True"
   ]
  },
  {
   "cell_type": "code",
   "execution_count": 8,
   "id": "047584e7-823e-43ed-a7ea-0f890d55e915",
   "metadata": {},
   "outputs": [],
   "source": [
    "val2 = False"
   ]
  },
  {
   "cell_type": "code",
   "execution_count": 10,
   "id": "e8f96f00-443c-498e-b166-01fa37247deb",
   "metadata": {},
   "outputs": [
    {
     "name": "stdout",
     "output_type": "stream",
     "text": [
      "and operator: False\n"
     ]
    }
   ],
   "source": [
    "print( \"and operator:\",val1 and val2)"
   ]
  },
  {
   "cell_type": "code",
   "execution_count": 12,
   "id": "af4c77b3-b37d-475b-84bf-148a6adb370f",
   "metadata": {},
   "outputs": [],
   "source": [
    "a = 3.14\n"
   ]
  },
  {
   "cell_type": "code",
   "execution_count": 14,
   "id": "0159b498-265e-4be0-8abd-5693e78cdc83",
   "metadata": {},
   "outputs": [],
   "source": [
    "a = str(a)"
   ]
  },
  {
   "cell_type": "code",
   "execution_count": 16,
   "id": "28abb253-3681-4dae-8f7b-2f238c333a0e",
   "metadata": {},
   "outputs": [
    {
     "name": "stdout",
     "output_type": "stream",
     "text": [
      "<class 'str'>\n"
     ]
    }
   ],
   "source": [
    "print(type(a))"
   ]
  },
  {
   "cell_type": "code",
   "execution_count": 20,
   "id": "7cd15edc-a768-4595-ad30-3585644a203b",
   "metadata": {},
   "outputs": [
    {
     "data": {
      "text/plain": [
       "'3.14 Hello'"
      ]
     },
     "execution_count": 20,
     "metadata": {},
     "output_type": "execute_result"
    }
   ],
   "source": [
    "a + \" Hello\""
   ]
  },
  {
   "cell_type": "code",
   "execution_count": 26,
   "id": "1b5b3fa8-b453-439c-8c29-a0d71ca13c79",
   "metadata": {},
   "outputs": [
    {
     "name": "stdin",
     "output_type": "stream",
     "text": [
      "Enter your Name: ashutosh\n"
     ]
    },
    {
     "name": "stdout",
     "output_type": "stream",
     "text": [
      "welcome ashutosh\n"
     ]
    }
   ],
   "source": [
    "name = input(\"Enter your Name:\")\n",
    "print(\"welcome\" , name)"
   ]
  },
  {
   "cell_type": "code",
   "execution_count": 28,
   "id": "9cca004e-0e19-415c-9258-ba370fea9161",
   "metadata": {},
   "outputs": [
    {
     "name": "stdin",
     "output_type": "stream",
     "text": [
      "enter some values: Kuchu kuchu\n"
     ]
    },
    {
     "name": "stdout",
     "output_type": "stream",
     "text": [
      "<class 'str'> Kuchu kuchu\n"
     ]
    }
   ],
   "source": [
    "val = input(\"enter some values:\")\n",
    "print(type(val), val)"
   ]
  },
  {
   "cell_type": "code",
   "execution_count": 30,
   "id": "5a4de301-99f3-44c6-885c-8bbdf77229ce",
   "metadata": {},
   "outputs": [
    {
     "name": "stdin",
     "output_type": "stream",
     "text": [
      "enter some values: 250\n"
     ]
    },
    {
     "name": "stdout",
     "output_type": "stream",
     "text": [
      "<class 'int'> 250\n"
     ]
    }
   ],
   "source": [
    "val = int(input(\"enter some values:\"))\n",
    "print(type(val), val)"
   ]
  },
  {
   "cell_type": "code",
   "execution_count": 32,
   "id": "6712882c-65a6-45ae-a623-f17037d11739",
   "metadata": {},
   "outputs": [
    {
     "name": "stdin",
     "output_type": "stream",
     "text": [
      "enter name : Ashutosh\n",
      "enter age: 29\n",
      "enter marks: 50.36\n"
     ]
    },
    {
     "name": "stdout",
     "output_type": "stream",
     "text": [
      "Welcome Ashutosh\n",
      "age= 29\n",
      "marks= 50.36\n"
     ]
    }
   ],
   "source": [
    "name = input(\"enter name :\")\n",
    "age = int(input(\"enter age:\"))\n",
    "marks= float(input(\"enter marks:\"))\n",
    "\n",
    "print(\"Welcome\", name)\n",
    "print(\"age=\", age)\n",
    "print(\"marks=\", marks)"
   ]
  },
  {
   "cell_type": "code",
   "execution_count": 34,
   "id": "a23e014d-6e8c-475f-953c-efa644d81dd5",
   "metadata": {},
   "outputs": [
    {
     "data": {
      "text/plain": [
       "int"
      ]
     },
     "execution_count": 34,
     "metadata": {},
     "output_type": "execute_result"
    }
   ],
   "source": [
    "type(age)\n"
   ]
  },
  {
   "cell_type": "code",
   "execution_count": 38,
   "id": "7ca6e842-a36e-4e4c-b8b7-6043e9d9e88a",
   "metadata": {},
   "outputs": [
    {
     "data": {
      "text/plain": [
       "float"
      ]
     },
     "execution_count": 38,
     "metadata": {},
     "output_type": "execute_result"
    }
   ],
   "source": [
    "type(marks)"
   ]
  },
  {
   "cell_type": "code",
   "execution_count": null,
   "id": "6d07cb76-8b5f-4bae-92e7-189a2e285234",
   "metadata": {},
   "outputs": [],
   "source": [
    "Floatno1 = float(input (\"enter your no: \"))\n",
    "Floatno2 = float(input (\"enter your no: \"))\n",
    "\n",
    "print(\"avg :\" , (Floatno1 + Floatno2)/2)"
   ]
  },
  {
   "cell_type": "code",
   "execution_count": null,
   "id": "ace5023e-12a9-4368-84c5-0cc2b81a101b",
   "metadata": {},
   "outputs": [],
   "source": []
  }
 ],
 "metadata": {
  "kernelspec": {
   "display_name": "Python 3 (ipykernel)",
   "language": "python",
   "name": "python3"
  },
  "language_info": {
   "codemirror_mode": {
    "name": "ipython",
    "version": 3
   },
   "file_extension": ".py",
   "mimetype": "text/x-python",
   "name": "python",
   "nbconvert_exporter": "python",
   "pygments_lexer": "ipython3",
   "version": "3.11.9"
  }
 },
 "nbformat": 4,
 "nbformat_minor": 5
}
